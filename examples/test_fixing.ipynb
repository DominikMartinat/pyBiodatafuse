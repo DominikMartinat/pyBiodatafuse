{
 "cells": [
  {
   "cell_type": "code",
   "execution_count": 1,
   "metadata": {},
   "outputs": [],
   "source": [
    "import os\n",
    "import json\n",
    "\n",
    "import pandas as pd\n",
    "from pyBiodatafuse.annotators.pubchem import get_protein_molecule_screened"
   ]
  },
  {
   "cell_type": "code",
   "execution_count": 2,
   "metadata": {},
   "outputs": [
    {
     "data": {
      "text/html": [
       "<div>\n",
       "<style scoped>\n",
       "    .dataframe tbody tr th:only-of-type {\n",
       "        vertical-align: middle;\n",
       "    }\n",
       "\n",
       "    .dataframe tbody tr th {\n",
       "        vertical-align: top;\n",
       "    }\n",
       "\n",
       "    .dataframe thead th {\n",
       "        text-align: right;\n",
       "    }\n",
       "</style>\n",
       "<table border=\"1\" class=\"dataframe\">\n",
       "  <thead>\n",
       "    <tr style=\"text-align: right;\">\n",
       "      <th></th>\n",
       "      <th>identifier</th>\n",
       "      <th>identifier.source</th>\n",
       "      <th>target</th>\n",
       "      <th>target.source</th>\n",
       "    </tr>\n",
       "  </thead>\n",
       "  <tbody>\n",
       "    <tr>\n",
       "      <th>0</th>\n",
       "      <td>EGFR</td>\n",
       "      <td>HGNC</td>\n",
       "      <td>C9JYS6</td>\n",
       "      <td>Uniprot-TrEMBL</td>\n",
       "    </tr>\n",
       "    <tr>\n",
       "      <th>1</th>\n",
       "      <td>EGFR</td>\n",
       "      <td>HGNC</td>\n",
       "      <td>P00533</td>\n",
       "      <td>Uniprot-TrEMBL</td>\n",
       "    </tr>\n",
       "    <tr>\n",
       "      <th>2</th>\n",
       "      <td>EGFR</td>\n",
       "      <td>HGNC</td>\n",
       "      <td>Q504U8</td>\n",
       "      <td>Uniprot-TrEMBL</td>\n",
       "    </tr>\n",
       "    <tr>\n",
       "      <th>3</th>\n",
       "      <td>HTR3A</td>\n",
       "      <td>HGNC</td>\n",
       "      <td>A0A0B4J205</td>\n",
       "      <td>Uniprot-TrEMBL</td>\n",
       "    </tr>\n",
       "    <tr>\n",
       "      <th>4</th>\n",
       "      <td>HTR3A</td>\n",
       "      <td>HGNC</td>\n",
       "      <td>P46098</td>\n",
       "      <td>Uniprot-TrEMBL</td>\n",
       "    </tr>\n",
       "  </tbody>\n",
       "</table>\n",
       "</div>"
      ],
      "text/plain": [
       "  identifier identifier.source      target   target.source\n",
       "0       EGFR              HGNC      C9JYS6  Uniprot-TrEMBL\n",
       "1       EGFR              HGNC      P00533  Uniprot-TrEMBL\n",
       "2       EGFR              HGNC      Q504U8  Uniprot-TrEMBL\n",
       "3      HTR3A              HGNC  A0A0B4J205  Uniprot-TrEMBL\n",
       "4      HTR3A              HGNC      P46098  Uniprot-TrEMBL"
      ]
     },
     "execution_count": 2,
     "metadata": {},
     "output_type": "execute_result"
    }
   ],
   "source": [
    "bridgedb_dataframe = pd.DataFrame(\n",
    "    {\n",
    "        \"identifier\": [\"EGFR\", \"EGFR\", \"EGFR\", \"HTR3A\", \"HTR3A\"],\n",
    "        \"identifier.source\": [\"HGNC\", \"HGNC\", \"HGNC\", \"HGNC\", \"HGNC\"],\n",
    "        \"target\": [\"C9JYS6\", \"P00533\", \"Q504U8\", \"A0A0B4J205\", \"P46098\"],\n",
    "        \"target.source\": [\n",
    "            \"Uniprot-TrEMBL\",\n",
    "            \"Uniprot-TrEMBL\",\n",
    "            \"Uniprot-TrEMBL\",\n",
    "            \"Uniprot-TrEMBL\",\n",
    "            \"Uniprot-TrEMBL\",\n",
    "        ],\n",
    "    }\n",
    ")\n",
    "bridgedb_dataframe.head()"
   ]
  },
  {
   "cell_type": "code",
   "execution_count": 3,
   "metadata": {},
   "outputs": [
    {
     "data": {
      "text/html": [
       "<div>\n",
       "<style scoped>\n",
       "    .dataframe tbody tr th:only-of-type {\n",
       "        vertical-align: middle;\n",
       "    }\n",
       "\n",
       "    .dataframe tbody tr th {\n",
       "        vertical-align: top;\n",
       "    }\n",
       "\n",
       "    .dataframe thead th {\n",
       "        text-align: right;\n",
       "    }\n",
       "</style>\n",
       "<table border=\"1\" class=\"dataframe\">\n",
       "  <thead>\n",
       "    <tr style=\"text-align: right;\">\n",
       "      <th></th>\n",
       "      <th>identifier</th>\n",
       "      <th>identifier.source</th>\n",
       "      <th>target</th>\n",
       "      <th>target.source</th>\n",
       "      <th>PubChem_assays</th>\n",
       "    </tr>\n",
       "  </thead>\n",
       "  <tbody>\n",
       "    <tr>\n",
       "      <th>0</th>\n",
       "      <td>EGFR</td>\n",
       "      <td>HGNC</td>\n",
       "      <td>P00533</td>\n",
       "      <td>Uniprot-TrEMBL</td>\n",
       "      <td>[{'pubchem_assay_id': '1727', 'assay_type': 'A...</td>\n",
       "    </tr>\n",
       "    <tr>\n",
       "      <th>1</th>\n",
       "      <td>HTR3A</td>\n",
       "      <td>HGNC</td>\n",
       "      <td>A0A0B4J205</td>\n",
       "      <td>Uniprot-TrEMBL</td>\n",
       "      <td>[{'pubchem_assay_id': nan, 'assay_type': nan, ...</td>\n",
       "    </tr>\n",
       "  </tbody>\n",
       "</table>\n",
       "</div>"
      ],
      "text/plain": [
       "  identifier identifier.source      target   target.source  \\\n",
       "0       EGFR              HGNC      P00533  Uniprot-TrEMBL   \n",
       "1      HTR3A              HGNC  A0A0B4J205  Uniprot-TrEMBL   \n",
       "\n",
       "                                      PubChem_assays  \n",
       "0  [{'pubchem_assay_id': '1727', 'assay_type': 'A...  \n",
       "1  [{'pubchem_assay_id': nan, 'assay_type': nan, ...  "
      ]
     },
     "execution_count": 3,
     "metadata": {},
     "output_type": "execute_result"
    }
   ],
   "source": [
    "obtained_data, metadata = get_protein_molecule_screened(bridgedb_dataframe)\n",
    "obtained_data"
   ]
  },
  {
   "cell_type": "code",
   "execution_count": null,
   "metadata": {},
   "outputs": [],
   "source": []
  }
 ],
 "metadata": {
  "kernelspec": {
   "display_name": "Python 3 (ipykernel)",
   "language": "python",
   "name": "python3"
  },
  "language_info": {
   "codemirror_mode": {
    "name": "ipython",
    "version": 3
   },
   "file_extension": ".py",
   "mimetype": "text/x-python",
   "name": "python",
   "nbconvert_exporter": "python",
   "pygments_lexer": "ipython3",
   "version": "3.11.8"
  }
 },
 "nbformat": 4,
 "nbformat_minor": 4
}
